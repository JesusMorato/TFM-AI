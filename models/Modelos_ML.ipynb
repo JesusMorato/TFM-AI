{
  "cells": [
    {
      "cell_type": "markdown",
      "metadata": {},
      "source": [
        "# Modelos de Machine Learning para Detección de DDoS\n",
        "Este notebook incluye el flujo completo desde la carga de datos, entrenamiento de modelos (Regresión Logística, XGBoost, GRU, LSTM, VAE + LSTM) y optimización con Optuna."
      ]
    },
    {
      "cell_type": "code",
      "execution_count": null,
      "metadata": {
        "colab": {
          "base_uri": "https://localhost:8080/"
        },
        "id": "SAteYLgomNWf",
        "outputId": "30e34d13-6451-4676-8b1f-7db4f4d3febf"
      },
      "outputs": [],
      "source": [
        "!pip install optuna"
      ]
    },
    {
      "cell_type": "code",
      "execution_count": null,
      "metadata": {
        "colab": {
          "base_uri": "https://localhost:8080/"
        },
        "id": "CkmYu2WTc5TR",
        "outputId": "aa9936e0-c624-4a63-84ad-e590008ced3c"
      },
      "outputs": [],
      "source": [
        "!pip install optuna-integration[tfkeras]"
      ]
    },
    {
      "cell_type": "code",
      "execution_count": null,
      "metadata": {},
      "outputs": [],
      "source": [
        "import os\n",
        "from google.colab import drive\n",
        "from pathlib import Path\n",
        "import numpy as np\n",
        "import pandas as pd\n",
        "import seaborn as sns\n",
        "from sklearn.preprocessing import LabelEncoder, StandardScaler, MinMaxScaler\n",
        "from sklearn.metrics import accuracy_score, precision_score, recall_score, f1_score, confusion_matrix, classification_report\n",
        "from sklearn.model_selection import train_test_split\n",
        "import tensorflow as tf\n",
        "from tensorflow.keras import Sequential\n",
        "from tensorflow.keras.layers import Dense, LSTM, Dropout, BatchNormalization, GRU, Flatten\n",
        "from tensorflow.keras.losses import BinaryCrossentropy\n",
        "from tensorflow.keras.optimizers import Adam\n",
        "from tensorflow.keras.utils import to_categorical\n",
        "from tensorflow.keras import layers, regularizers, activations, backend as K\n",
        "import xgboost as xgb\n",
        "import optuna\n",
        "from sklearn.linear_model import LogisticRegression\n",
        "from optuna.integration import TFKerasPruningCallback\n",
        "import matplotlib.pyplot as plt\n",
        "import seaborn as sns\n",
        "import matplotlib.pyplot as plt\n",
        "from sklearn.metrics import confusion_matrix"
      ]
    },
    {
      "cell_type": "code",
      "execution_count": null,
      "metadata": {
        "colab": {
          "base_uri": "https://localhost:8080/"
        },
        "id": "WWXb6RHmfGKi",
        "outputId": "7ce6a8de-a73b-49d9-eb41-7b99b3cb3050"
      },
      "outputs": [],
      "source": [
        "drive.mount('/content/drive')\n",
        "!pwd"
      ]
    },
    {
      "cell_type": "code",
      "execution_count": null,
      "metadata": {
        "colab": {
          "base_uri": "https://localhost:8080/"
        },
        "id": "fnHgqzdjfMCq",
        "outputId": "3d06e3fb-21af-486f-d256-023dee1619fa"
      },
      "outputs": [],
      "source": [
        "BASE_FOLDER = '/content/drive/MyDrive/TFM_Jesus_Morato/VAE-LSTM/'\n",
        "os.makedirs(BASE_FOLDER, exist_ok=True)\n",
        "os.chdir(BASE_FOLDER)\n",
        "!pwd"
      ]
    },
    {
      "cell_type": "code",
      "execution_count": null,
      "metadata": {
        "id": "mAn9eS6rtFjN"
      },
      "outputs": [],
      "source": [
        "final_columns = [' Source IP', ' Source Port', ' Destination IP', ' Destination Port',\n",
        "       ' Protocol', 'Total Length of Fwd Packets', ' Fwd Packet Length Min',\n",
        "       ' Bwd Packet Length Min', 'Flow Bytes/s', ' Flow Packets/s',\n",
        "       ' Flow IAT Min', 'Bwd IAT Total', ' Bwd IAT Mean', 'Fwd PSH Flags',\n",
        "       ' Bwd Header Length', 'Fwd Packets/s', ' Bwd Packets/s',\n",
        "       ' Min Packet Length', ' Packet Length Mean', 'FIN Flag Count',\n",
        "       ' SYN Flag Count', ' RST Flag Count', ' PSH Flag Count',\n",
        "       ' ACK Flag Count', ' URG Flag Count', ' ECE Flag Count',\n",
        "       ' Down/Up Ratio', ' Avg Fwd Segment Size', ' Avg Bwd Segment Size',\n",
        "       'Init_Win_bytes_forward', ' Init_Win_bytes_backward',\n",
        "       ' act_data_pkt_fwd', ' min_seg_size_forward', ' Active Std',\n",
        "       ' Active Min', ' Idle Std', ' Idle Min']"
      ]
    },
    {
      "cell_type": "markdown",
      "metadata": {},
      "source": [
        "## Modelos con el dataset Multiclase\n",
        "\n",
        "En este apartado se evaluarán los distintos modelos de Machine Learning sobre el dataset multiclase, previamente procesado y guardado."
      ]
    },
    {
      "cell_type": "markdown",
      "metadata": {
        "id": "wIfshlkMJ9UT"
      },
      "source": [
        "### Regresión Logística\n",
        "\n",
        "Modelo de regresión variando el parámetro C de penalización"
      ]
    },
    {
      "cell_type": "code",
      "execution_count": null,
      "metadata": {
        "id": "HMqfGCLvKCin"
      },
      "outputs": [],
      "source": [
        "X = pd.read_csv('X_train_multiclass.csv')\n",
        "y = pd.read_csv('y_train_multiclass.csv')"
      ]
    },
    {
      "cell_type": "code",
      "execution_count": null,
      "metadata": {
        "id": "M_YR9qirKJJP"
      },
      "outputs": [],
      "source": [
        "X = X[final_columns]"
      ]
    },
    {
      "cell_type": "code",
      "execution_count": null,
      "metadata": {
        "id": "RwWQDKosKMTX"
      },
      "outputs": [],
      "source": [
        "scaler = StandardScaler()\n",
        "X_scaled = scaler.fit_transform(X)"
      ]
    },
    {
      "cell_type": "code",
      "execution_count": null,
      "metadata": {
        "id": "cClB5_JdKOij"
      },
      "outputs": [],
      "source": [
        "X_train, X_test, y_train, y_test = train_test_split(\n",
        "    X, y, test_size=0.2, random_state=42, shuffle=True)"
      ]
    },
    {
      "cell_type": "code",
      "execution_count": null,
      "metadata": {},
      "outputs": [],
      "source": [
        "c_values = [0.0001, 0.001, 0.01, 0.1, 1, 10, 100, 1000]\n",
        "results = []\n",
        "\n",
        "for c in c_values:\n",
        "    model = LogisticRegression(C=c, max_iter=1000)\n",
        "    model.fit(X_train, y_train)\n",
        "    y_pred = model.predict(X_test)\n",
        "    accuracy = accuracy_score(y_test, y_pred)\n",
        "    precision = precision_score(y_test, y_pred, average='weighted')\n",
        "    recall = recall_score(y_test, y_pred, average='weighted')\n",
        "    f1 = f1_score(y_test, y_pred, average='weighted')\n",
        "    results.append([c, accuracy, precision, recall, f1])\n",
        "\n",
        "results_df = pd.DataFrame(results, columns=[\"C\", \"Accuracy\", \"Precision\", \"Recall\", \"F1-score\"])\n",
        "print(results_df)"
      ]
    },
    {
      "cell_type": "markdown",
      "metadata": {
        "id": "ltyWOrDpgIzj"
      },
      "source": [
        "### XGBoost\n",
        "\n",
        "Búsqueda de hiperparámetros con Optuna para el modelo XGBoost, evaluación de métricas con los mejores parámetros encontrados."
      ]
    },
    {
      "cell_type": "code",
      "execution_count": null,
      "metadata": {
        "id": "NFx033GBffxo"
      },
      "outputs": [],
      "source": [
        "X = pd.read_csv('X_train_multiclass.csv')\n",
        "y = pd.read_csv('y_train_multiclass.csv')"
      ]
    },
    {
      "cell_type": "code",
      "execution_count": null,
      "metadata": {
        "id": "FrLmk9KDlAG3"
      },
      "outputs": [],
      "source": [
        "X = X[final_columns]"
      ]
    },
    {
      "cell_type": "code",
      "execution_count": null,
      "metadata": {
        "id": "lZdCR1wSl1wg"
      },
      "outputs": [],
      "source": [
        "scaler = StandardScaler()\n",
        "X_scaled = scaler.fit_transform(X)"
      ]
    },
    {
      "cell_type": "code",
      "execution_count": null,
      "metadata": {
        "id": "zibsT344liqT"
      },
      "outputs": [],
      "source": [
        "X_train, X_test, y_train, y_test = train_test_split(\n",
        "    X, y, test_size=0.2, random_state=42, shuffle=True)\n",
        "\n",
        "X_train, X_valid, y_train, y_valid = train_test_split(\n",
        "    X_train, y_train, test_size=0.2, random_state=42, shuffle=True)"
      ]
    },
    {
      "cell_type": "code",
      "execution_count": null,
      "metadata": {
        "colab": {
          "base_uri": "https://localhost:8080/"
        },
        "id": "2OQcwk5yl-dS",
        "outputId": "3f41a72a-0723-436d-8944-3456320f91ed"
      },
      "outputs": [],
      "source": [
        "# Definimos la función objetivo para la optimización de hiperparámetros\n",
        "def objective(trial):\n",
        "    params = {\n",
        "        \"objective\": \"multi:softmax\",\n",
        "        \"num_class\": 7,\n",
        "        \"eval_metric\": \"mlogloss\",\n",
        "        \"n_estimators\": trial.suggest_int(\"n_estimators\", 50, 300),\n",
        "        \"learning_rate\": trial.suggest_float(\"learning_rate\", 0.01, 0.3),\n",
        "        \"max_depth\": trial.suggest_int(\"max_depth\", 3, 12),\n",
        "        \"subsample\": trial.suggest_float(\"subsample\", 0.5, 1.0),\n",
        "        \"colsample_bytree\": trial.suggest_float(\"colsample_bytree\", 0.5, 1.0),\n",
        "        \"min_child_weight\": trial.suggest_int(\"min_child_weight\", 1, 10),\n",
        "        \"gamma\": trial.suggest_float(\"gamma\", 0, 5),\n",
        "        \"reg_alpha\": trial.suggest_float(\"reg_alpha\", 0, 5),\n",
        "        \"reg_lambda\": trial.suggest_float(\"reg_lambda\", 0, 5)\n",
        "    }\n",
        "\n",
        "    model = xgb.XGBClassifier(**params, use_label_encoder=False)\n",
        "    model.fit(X_train, y_train)\n",
        "    y_pred = model.predict(X_valid)\n",
        "    accuracy = accuracy_score(y_valid, y_pred)\n",
        "    return accuracy\n",
        "\n",
        "study = optuna.create_study(direction=\"maximize\")\n",
        "study.optimize(objective, n_trials=30)"
      ]
    },
    {
      "cell_type": "code",
      "execution_count": null,
      "metadata": {
        "colab": {
          "base_uri": "https://localhost:8080/"
        },
        "id": "tAH0dA355G3a",
        "outputId": "5058f6c1-7149-4c3e-d2c0-59564a6e4917"
      },
      "outputs": [],
      "source": [
        "# Configuración de los mejores hiperparámetros encontrados\n",
        "best_params = {\n",
        "    'n_estimators': 172,\n",
        "    'learning_rate': 0.12678245336468844,\n",
        "    'max_depth': 11,\n",
        "    'subsample': 0.7898323873624815,\n",
        "    'colsample_bytree': 0.848728009323304,\n",
        "    'min_child_weight': 10,\n",
        "    'gamma': 0.7875794378542267,\n",
        "    'reg_alpha': 0.5787478600366702,\n",
        "    'reg_lambda': 1.1732832093441035,\n",
        "    'objective': 'multi:softmax',\n",
        "    'num_class': 7,\n",
        "    'eval_metric': 'mlogloss',\n",
        "    'use_label_encoder': False\n",
        "}\n",
        "\n",
        "model = xgb.XGBClassifier(**best_params)\n",
        "model.fit(X_train, y_train)\n",
        "\n",
        "# Predecimos el conjunto de prueba\n",
        "y_pred = model.predict(X_test)\n",
        "\n",
        "accuracy = accuracy_score(y_test, y_pred)\n",
        "precision = precision_score(y_test, y_pred, average='macro')  # Macro para equilibrar clases\n",
        "recall = recall_score(y_test, y_pred, average='macro')\n",
        "f1 = f1_score(y_test, y_pred, average='macro')\n",
        "\n",
        "# Se imprimen los resultados del mejor modelo de XGBoost\n",
        "print(f\"Accuracy: {accuracy:.4f}\")\n",
        "print(f\"Precision: {precision:.4f}\")\n",
        "print(f\"Recall: {recall:.4f}\")\n",
        "print(f\"F1-score: {f1:.4f}\")\n"
      ]
    },
    {
      "cell_type": "code",
      "execution_count": null,
      "metadata": {
        "colab": {
          "base_uri": "https://localhost:8080/",
          "height": 542
        },
        "id": "9f-BFIsuF0Q2",
        "outputId": "7c16e980-0162-4e63-e5ad-73c5a49bd0b4"
      },
      "outputs": [],
      "source": [
        "from optuna.visualization import plot_optimization_history, plot_param_importances, plot_parallel_coordinate\n",
        "\n",
        "plot_optimization_history(study).show()"
      ]
    },
    {
      "cell_type": "code",
      "execution_count": null,
      "metadata": {
        "colab": {
          "base_uri": "https://localhost:8080/",
          "height": 542
        },
        "id": "Ksm_mlVaGvFV",
        "outputId": "454b7f66-d97f-4ca7-d655-70a2fdfb364b"
      },
      "outputs": [],
      "source": [
        "plot_param_importances(study).show()"
      ]
    },
    {
      "cell_type": "code",
      "execution_count": null,
      "metadata": {
        "colab": {
          "base_uri": "https://localhost:8080/"
        },
        "id": "UKv0lmsOosOv",
        "outputId": "5a8fea44-8572-49f4-dacf-c7dc5bc607cc"
      },
      "outputs": [],
      "source": [
        "best_model = xgb.XGBClassifier(**best_params, use_label_encoder=False)\n",
        "\n",
        "best_model.fit(X_train, y_train)\n",
        "\n",
        "best_model.save_model(\"xgboost.model\")"
      ]
    },
    {
      "cell_type": "code",
      "execution_count": null,
      "metadata": {
        "colab": {
          "base_uri": "https://localhost:8080/",
          "height": 472
        },
        "id": "l6VOenbGGJXV",
        "outputId": "90e17e77-771f-4ffd-9c91-515ac90752a0"
      },
      "outputs": [],
      "source": [
        "xgb.plot_importance(best_model, max_num_features=20)\n",
        "plt.show()"
      ]
    },
    {
      "cell_type": "code",
      "execution_count": null,
      "metadata": {
        "colab": {
          "base_uri": "https://localhost:8080/",
          "height": 707
        },
        "id": "ns4ZMyhGKa8m",
        "outputId": "348565f9-0e3e-4743-dabb-e8639a48d526"
      },
      "outputs": [],
      "source": [
        "# Se obtiene por último ma matriz de confusión\n",
        "conf_matrix = confusion_matrix(y_test, y_pred)\n",
        "\n",
        "class_names = ['Benigno', 'Syn', 'LDAP', 'UDP', 'SSDP', 'MSSQL', 'DNS']\n",
        "\n",
        "# Hacemos un gráfico de la matriz de confusión con seaborn\n",
        "plt.figure(figsize=(10, 7))\n",
        "sns.heatmap(conf_matrix, annot=True, fmt='d', cmap='Blues', cbar=False,\n",
        "            xticklabels=class_names, yticklabels=class_names)\n",
        "plt.xlabel('Predicción')\n",
        "plt.ylabel('Real')\n",
        "plt.title('Matriz de Confusión')\n",
        "plt.tight_layout()\n",
        "plt.show()\n"
      ]
    },
    {
      "cell_type": "markdown",
      "metadata": {
        "id": "4ro4aQiapoVJ"
      },
      "source": [
        "## Series Models\n",
        "\n",
        "A partir de este punto se entrenarán los modelos que analizan series temporales: LSTM, GRU y VAE + LSTM.\n"
      ]
    },
    {
      "cell_type": "markdown",
      "metadata": {
        "id": "oBxG6vKbpquU"
      },
      "source": [
        "### LSTM\n",
        "\n",
        "En este modelo se definirá de igual forma una función objetivo para que Optuna realice un análisis de las mejores configuraciones de la arquitectura."
      ]
    },
    {
      "cell_type": "code",
      "execution_count": null,
      "metadata": {
        "id": "0gZ3qrXw-HYo"
      },
      "outputs": [],
      "source": [
        "X = pd.read_csv('X_train_multiclass.csv')\n",
        "y = pd.read_csv('y_train_multiclass.csv')"
      ]
    },
    {
      "cell_type": "code",
      "execution_count": null,
      "metadata": {
        "id": "-LKYZUJ4-umM"
      },
      "outputs": [],
      "source": [
        "std = StandardScaler()\n",
        "X = std.fit_transform(X)"
      ]
    },
    {
      "cell_type": "code",
      "execution_count": null,
      "metadata": {
        "id": "qdE7pJDT-MQ4"
      },
      "outputs": [],
      "source": [
        "def create_windows(X, y, window_size=10):\n",
        "    X_windows, y_windows = [], []\n",
        "    for i in range(len(X) - window_size):\n",
        "        X_windows.append(X[i:i+window_size])\n",
        "        y_windows.append(y[i+window_size])  # Usamos la etiqueta del siguiente instante\n",
        "    return np.array(X_windows), np.array(y_windows)\n",
        "\n",
        "X_train_win, y_train_win = create_windows(X_train, y_train, window_size=10)\n",
        "X_test_win, y_test_win = create_windows(X_test, y_test, window_size=10)"
      ]
    },
    {
      "cell_type": "code",
      "execution_count": null,
      "metadata": {
        "id": "DTZvUbU3-XOh"
      },
      "outputs": [],
      "source": [
        "y_train_cat = to_categorical(y_train_win, num_classes=7)\n",
        "y_test_cat = to_categorical(y_test_win, num_classes=7)"
      ]
    },
    {
      "cell_type": "code",
      "execution_count": null,
      "metadata": {
        "id": "zpLK-Blx-b7Y"
      },
      "outputs": [],
      "source": [
        "# Se define un conjunto para que no puedan repetirse las configuraciones\n",
        "# de los hiperparámetros\n",
        "tested_configs = set()\n",
        "\n",
        "# Definimos la función objetivo para la optimización de hiperparámetros, los parámetros que pueden ser optimizados son:\n",
        "# num_layers, units, dropout_rate y learning_rate\n",
        "def objective(trial):\n",
        "    global tested_configs\n",
        "\n",
        "    num_layers = trial.suggest_int(\"num_layers\", 1, 3)\n",
        "    units = tuple(trial.suggest_categorical(f\"units_{i}\", [32, 64, 128]) for i in range(num_layers))\n",
        "    dropout_rate = trial.suggest_categorical(\"dropout\", [0.01, 0.05, 0.1, 0.2, 0.3])\n",
        "    learning_rate = trial.suggest_categorical(\"learning_rate\", [1e-4, 5e-4, 1e-3, 5e-3])\n",
        "\n",
        "    config = (num_layers, units, dropout_rate, learning_rate)\n",
        "    if config in tested_configs:\n",
        "        return float(\"-inf\")\n",
        "    tested_configs.add(config)\n",
        "\n",
        "    model = Sequential()\n",
        "    for i in range(num_layers):\n",
        "        model.add(LSTM(units=units[i],\n",
        "                       return_sequences=i < num_layers - 1,\n",
        "                       input_shape=(X_train_win.shape[1], X_train_win.shape[2]) if i == 0 else None))\n",
        "    model.add(Dropout(dropout_rate))\n",
        "    model.add(Dense(7, activation='softmax'))\n",
        "\n",
        "    model.compile(optimizer=Adam(learning_rate=learning_rate),\n",
        "                  loss='categorical_crossentropy',\n",
        "                  metrics=['accuracy'])\n",
        "\n",
        "    pruning_cb = TFKerasPruningCallback(trial, \"val_accuracy\")\n",
        "\n",
        "    model.fit(X_train_win, y_train_cat,\n",
        "              validation_data=(X_test_win, y_test_cat),\n",
        "              epochs=15, batch_size=1024, verbose=2,\n",
        "              callbacks=[pruning_cb])\n",
        "\n",
        "    y_pred = np.argmax(model.predict(X_test_win), axis=1)\n",
        "    y_true = np.argmax(y_test_cat, axis=1)\n",
        "\n",
        "    acc = accuracy_score(y_true, y_pred)\n",
        "\n",
        "    if trial.should_prune():\n",
        "        trial.set_user_attr(\"precision\", np.nan)\n",
        "        trial.set_user_attr(\"recall\", np.nan)\n",
        "        raise optuna.TrialPruned()\n",
        "\n",
        "    trial.set_user_attr(\"precision\", precision_score(y_true, y_pred, average='weighted'))\n",
        "    trial.set_user_attr(\"recall\", recall_score(y_true, y_pred, average='weighted'))\n",
        "\n",
        "    return acc\n"
      ]
    },
    {
      "cell_type": "code",
      "execution_count": null,
      "metadata": {
        "colab": {
          "base_uri": "https://localhost:8080/",
          "height": 1000
        },
        "id": "Af32vCe0SU09",
        "outputId": "6616a990-e0a2-4caa-e34d-fd2094d1a220"
      },
      "outputs": [],
      "source": [
        "# Nos vamos a quedar con los 5 entrenamientos principales de LTSM\n",
        "# Realizamos 20 entrenamientos con diferentes configuraciones de hiperparámetros\n",
        "study = optuna.create_study(direction=\"maximize\")\n",
        "study.optimize(objective, n_trials=20)\n",
        "\n",
        "top_trials = sorted(study.trials, key=lambda t: t.value, reverse=True)[:20]\n",
        "\n",
        "results = []\n",
        "for trial in top_trials:\n",
        "    num_layers = trial.params[\"num_layers\"]\n",
        "    units = [trial.params[f\"units_{i}\"] for i in range(num_layers)]\n",
        "\n",
        "    results.append({\n",
        "        \"Num Layers\": num_layers,\n",
        "        \"LSTM Units\": units,\n",
        "        \"Dropout\": trial.params[\"dropout\"],\n",
        "        \"Learning Rate\": trial.params[\"learning_rate\"],\n",
        "        \"Accuracy\": trial.value,\n",
        "        \"Precision\": trial.user_attrs[\"precision\"],\n",
        "        \"Recall\": trial.user_attrs[\"recall\"]\n",
        "    })\n",
        "\n",
        "results_df_results = pd.DataFrame(results)"
      ]
    },
    {
      "cell_type": "code",
      "execution_count": null,
      "metadata": {
        "colab": {
          "base_uri": "https://localhost:8080/"
        },
        "id": "E6q8DGCfAcFs",
        "outputId": "65581992-4f79-49a3-98a8-112785a27384"
      },
      "outputs": [],
      "source": [
        "# Se muestran los resultados de los 5 mejores modelos en formato más legible para apuntar en la memoria\n",
        "trial_data = []\n",
        "for trial in top_trials:\n",
        "    params = trial.params\n",
        "    trial_data.append({\n",
        "        \"Trial\": trial.number,\n",
        "        \"Accuracy\": round(trial.values[0], 5),\n",
        "        \"Precision\": round(trial.user_attrs.get(\"precision\", 0), 5),\n",
        "        \"Recall\": round(trial.user_attrs.get(\"recall\", 0), 5),\n",
        "        \"Num Layers\": params[\"num_layers\"],\n",
        "        \"Units\": [params.get(f\"units_{i}\", None) for i in range(params[\"num_layers\"])],\n",
        "        \"Dropout\": params[\"dropout\"],\n",
        "        \"Learning Rate\": params[\"learning_rate\"],\n",
        "    })\n",
        "\n",
        "df_trials = pd.DataFrame(trial_data).sort_values(by=\"Accuracy\", ascending=False)\n",
        "print(df_trials)\n",
        "df_trials.to_csv(\"optuna_trials_results.csv\", index=False)\n"
      ]
    },
    {
      "cell_type": "markdown",
      "metadata": {
        "id": "12qP_sFc8IcA"
      },
      "source": [
        "### GRU\n"
      ]
    },
    {
      "cell_type": "code",
      "execution_count": null,
      "metadata": {
        "id": "t8MDmT8E8k5m"
      },
      "outputs": [],
      "source": [
        "X = pd.read_csv('X_train_multiclass.csv')\n",
        "y = pd.read_csv('y_train_multiclass.csv')"
      ]
    },
    {
      "cell_type": "code",
      "execution_count": null,
      "metadata": {
        "id": "pg97W4CG8k5q"
      },
      "outputs": [],
      "source": [
        "std = StandardScaler()\n",
        "X = std.fit_transform(X)"
      ]
    },
    {
      "cell_type": "code",
      "execution_count": null,
      "metadata": {
        "id": "ps84FMVI8k5s"
      },
      "outputs": [],
      "source": [
        "from sklearn.model_selection import train_test_split\n",
        "X_train, X_test, y_train, y_test = train_test_split(X, y, test_size=0.2, random_state=42, shuffle=False)"
      ]
    },
    {
      "cell_type": "code",
      "execution_count": null,
      "metadata": {
        "id": "0AeieRT58k5t"
      },
      "outputs": [],
      "source": [
        "y_train = to_categorical(y_train, num_classes=7)\n",
        "y_test = to_categorical(y_test, num_classes=7)"
      ]
    },
    {
      "cell_type": "code",
      "execution_count": null,
      "metadata": {
        "colab": {
          "base_uri": "https://localhost:8080/"
        },
        "id": "lzBLT2Yg8oFd",
        "outputId": "463da3ce-4eec-485f-c206-3ed044f0d0a8"
      },
      "outputs": [],
      "source": [
        "tested_configs = set()\n",
        "\n",
        "def objective(trial):\n",
        "    global tested_configs\n",
        "\n",
        "    num_layers = trial.suggest_int(\"num_layers\", 1, 3)\n",
        "    fixed_units = [32, 64, 128]\n",
        "    units = tuple(trial.suggest_categorical(f\"units_{i}\", fixed_units) for i in range(num_layers))\n",
        "\n",
        "    dropout_rate = trial.suggest_categorical(\"dropout\", [0.01, 0.05, 0.1, 0.2, 0.3])\n",
        "    learning_rate = trial.suggest_categorical(\"learning_rate\", [1e-4, 5e-4, 1e-3, 5e-3])\n",
        "\n",
        "    config = (num_layers, units, dropout_rate, learning_rate)\n",
        "    if config in tested_configs:\n",
        "        return float(\"-inf\")\n",
        "    tested_configs.add(config)\n",
        "\n",
        "    model = Sequential()\n",
        "    for i in range(num_layers):\n",
        "        return_sequences = i < num_layers - 1\n",
        "        model.add(GRU(units=units[i], return_sequences=return_sequences,\n",
        "                      input_shape=(X_train.shape[1], X_train.shape[2]) if i == 0 else None))\n",
        "    model.add(Dropout(dropout_rate))\n",
        "    model.add(Dense(units=7, activation='softmax'))\n",
        "\n",
        "    model.compile(optimizer=Adam(learning_rate=learning_rate),\n",
        "                  loss='categorical_crossentropy',\n",
        "                  metrics=['accuracy'])\n",
        "\n",
        "    pruning_callback = TFKerasPruningCallback(trial, \"val_accuracy\")\n",
        "    model.fit(X_train, y_train,\n",
        "              validation_data=(X_test, y_test),\n",
        "              epochs=15, batch_size=512,\n",
        "              verbose=2, callbacks=[pruning_callback])\n",
        "\n",
        "    y_pred = np.argmax(model.predict(X_test), axis=1)\n",
        "    y_true = np.argmax(y_test, axis=1)\n",
        "    accuracy = accuracy_score(y_true, y_pred)\n",
        "\n",
        "    if trial.should_prune():\n",
        "        trial.set_user_attr(\"precision\", np.nan)\n",
        "        trial.set_user_attr(\"recall\", np.nan)\n",
        "        raise optuna.TrialPruned()\n",
        "\n",
        "    precision = precision_score(y_true, y_pred, average='weighted')\n",
        "    recall = recall_score(y_true, y_pred, average='weighted')\n",
        "    trial.set_user_attr(\"precision\", precision)\n",
        "    trial.set_user_attr(\"recall\", recall)\n",
        "\n",
        "    return accuracy"
      ]
    },
    {
      "cell_type": "code",
      "execution_count": null,
      "metadata": {},
      "outputs": [],
      "source": [
        "study = optuna.create_study(direction=\"maximize\")\n",
        "study.optimize(objective, n_trials=20)\n",
        "\n",
        "top_trials = sorted(study.trials, key=lambda t: t.value, reverse=True)[:20]\n",
        "\n",
        "results = []\n",
        "for trial in top_trials:\n",
        "    num_layers = trial.params[\"num_layers\"]\n",
        "    units = [trial.params[f\"units_{i}\"] for i in range(num_layers)]\n",
        "\n",
        "    results.append({\n",
        "        \"Num Layers\": num_layers,\n",
        "        \"GRU Units\": units,\n",
        "        \"Dropout\": trial.params[\"dropout\"],\n",
        "        \"Learning Rate\": trial.params[\"learning_rate\"],\n",
        "        \"Accuracy\": trial.value,\n",
        "        \"Precision\": trial.user_attrs[\"precision\"],\n",
        "        \"Recall\": trial.user_attrs[\"recall\"]\n",
        "    })\n",
        "\n",
        "results_df = pd.DataFrame(results)\n",
        "print(results_df)"
      ]
    },
    {
      "cell_type": "code",
      "execution_count": null,
      "metadata": {},
      "outputs": [],
      "source": [
        "trial_data = []\n",
        "for trial in top_trials:\n",
        "    params = trial.params\n",
        "    trial_data.append({\n",
        "        \"Trial\": trial.number,\n",
        "        \"Accuracy\": round(trial.values[0], 5),\n",
        "        \"Precision\": round(trial.user_attrs.get(\"precision\", 0), 5),\n",
        "        \"Recall\": round(trial.user_attrs.get(\"recall\", 0), 5),\n",
        "        \"Num Layers\": params[\"num_layers\"],\n",
        "        \"Units\": [params.get(f\"units_{i}\", None) for i in range(params[\"num_layers\"])],\n",
        "        \"Dropout\": params[\"dropout\"],\n",
        "        \"Learning Rate\": params[\"learning_rate\"],\n",
        "    })\n",
        "\n",
        "df_trials = pd.DataFrame(trial_data).sort_values(by=\"Accuracy\", ascending=False)\n",
        "df_trials.to_csv(\"optuna_gru_trials_results.csv\", index=False)"
      ]
    },
    {
      "cell_type": "markdown",
      "metadata": {
        "id": "iPZ1qLfODciQ"
      },
      "source": [
        "### Ejecuciones Binarias\n"
      ]
    },
    {
      "cell_type": "code",
      "execution_count": null,
      "metadata": {
        "id": "PGL6otYdDhFO"
      },
      "outputs": [],
      "source": [
        "X = pd.read_csv('X_train_binary_v2.csv')\n",
        "y = pd.read_csv('y_train_binary_v2.csv')"
      ]
    },
    {
      "cell_type": "code",
      "execution_count": null,
      "metadata": {
        "id": "p5ebkgE0Fk2u"
      },
      "outputs": [],
      "source": [
        "X = X[final_columns]"
      ]
    },
    {
      "cell_type": "code",
      "execution_count": null,
      "metadata": {
        "id": "pA2Tp-QgFsPX"
      },
      "outputs": [],
      "source": [
        "scaler = StandardScaler()\n",
        "X_scaled = scaler.fit_transform(X)"
      ]
    },
    {
      "cell_type": "code",
      "execution_count": null,
      "metadata": {
        "id": "nI1-jRgIFvCP"
      },
      "outputs": [],
      "source": [
        "X_train, X_test, y_train, y_test = train_test_split(\n",
        "    X, y, test_size=0.3, random_state=42, shuffle=True)"
      ]
    },
    {
      "cell_type": "markdown",
      "metadata": {
        "id": "aEteVmdfFwXk"
      },
      "source": [
        "Regresión logística\n"
      ]
    },
    {
      "cell_type": "code",
      "execution_count": null,
      "metadata": {
        "colab": {
          "base_uri": "https://localhost:8080/"
        },
        "id": "d9B5r2r6Fzc8",
        "outputId": "abfc75e9-3195-4745-ed65-1cb98ed24da7"
      },
      "outputs": [],
      "source": [
        "# Evaluamos el modelo con C=1 que fueron los mejores resultados del dataset multiclase\n",
        "model = LogisticRegression(C=1, max_iter=1000)\n",
        "model.fit(X_train, y_train)\n",
        "y_pred = model.predict(X_test)\n",
        "\n",
        "accuracy = accuracy_score(y_test, y_pred)\n",
        "precision = precision_score(y_test, y_pred, average='weighted')\n",
        "recall = recall_score(y_test, y_pred, average='weighted')\n",
        "f1 = f1_score(y_test, y_pred, average='weighted')\n",
        "\n",
        "print(f\"Accuracy: {accuracy:.5f}\")\n",
        "print(f\"Precision: {precision:.5f}\")\n",
        "print(f\"Recall: {recall:.5f}\")\n",
        "print(f\"F1-score: {f1:.5f}\")\n",
        "\n",
        "results_df = pd.DataFrame({\n",
        "    \"C\": [1],\n",
        "    \"Accuracy\": [accuracy],\n",
        "    \"Precision\": [precision],\n",
        "    \"Recall\": [recall],\n",
        "    \"F1-score\": [f1]\n",
        "})\n",
        "\n",
        "print(results_df)"
      ]
    },
    {
      "cell_type": "markdown",
      "metadata": {
        "id": "EnoOZFoXJJPd"
      },
      "source": [
        "#### LSTM Y GRU\n",
        "\n",
        "En este caso se hizo una función genérica para poder evaluar ambos modelos con la mejor configuración de hiperparámetros obtenida de la anterior sección."
      ]
    },
    {
      "cell_type": "code",
      "execution_count": null,
      "metadata": {
        "colab": {
          "base_uri": "https://localhost:8080/"
        },
        "id": "VPqHP45gJK8L",
        "outputId": "d3c3001f-fdf2-4bbd-a11b-4cee7e9bde58"
      },
      "outputs": [],
      "source": [
        "# Definimos la función para evaluar el modelo (tanto LSTM como GRU)\n",
        "def evaluate(model_type, params):\n",
        "    model = Sequential()\n",
        "    for i in range(params[\"num_layers\"]):\n",
        "        return_seq = i < params[\"num_layers\"] - 1\n",
        "        layer = LSTM if model_type == \"LSTM\" else GRU\n",
        "        model.add(layer(params[\"units\"][i], return_sequences=return_seq, input_shape=(X_train.shape[1], X_train.shape[2]) if i == 0 else None))\n",
        "    model.add(Dropout(params[\"dropout\"]))\n",
        "    model.add(Dense(2, activation=\"softmax\"))\n",
        "\n",
        "    model.compile(optimizer=Adam(learning_rate=params.get(\"learning_rate\", 0.001)), loss=\"categorical_crossentropy\", metrics=[\"accuracy\"])\n",
        "    model.fit(X_train, y_train, epochs=15, batch_size=512, validation_split=0.2, verbose=2)\n",
        "\n",
        "    y_pred = np.argmax(model.predict(X_test), axis=1)\n",
        "    y_true = np.argmax(y_test, axis=1)\n",
        "\n",
        "    return {\n",
        "        \"Accuracy\": accuracy_score(y_true, y_pred),\n",
        "        \"Precision\": precision_score(y_true, y_pred, average=\"weighted\"),\n",
        "        \"Recall\": recall_score(y_true, y_pred, average=\"weighted\"),\n",
        "        \"F1-score\": f1_score(y_true, y_pred, average=\"weighted\")\n",
        "    }"
      ]
    },
    {
      "cell_type": "code",
      "execution_count": null,
      "metadata": {
        "colab": {
          "base_uri": "https://localhost:8080/"
        },
        "id": "9BWbd-UAKRDh",
        "outputId": "a5fe0bf0-0c3d-4215-b3be-1fc1e1a820cd"
      },
      "outputs": [],
      "source": [
        "# Configuraciones óptimas\n",
        "lstm_params = {\n",
        "    \"num_layers\": 2,\n",
        "    \"units\": [32, 128],\n",
        "    \"dropout\": 0.2\n",
        "}\n",
        "\n",
        "gru_params = {\n",
        "    \"num_layers\": 3,\n",
        "    \"units\": [32, 128, 128],\n",
        "    \"dropout\": 0.2,\n",
        "    \"learning_rate\": 0.005\n",
        "}"
      ]
    },
    {
      "cell_type": "markdown",
      "metadata": {},
      "source": [
        "Evaluamos los resultados del mejor modelo de LSTM para el dataset multiclase en el dataset binarizado\n"
      ]
    },
    {
      "cell_type": "code",
      "execution_count": null,
      "metadata": {
        "id": "WUnEBAJZKuzN"
      },
      "outputs": [],
      "source": [
        "# Evaluación\n",
        "print(\"Resultados LSTM:\")\n",
        "print(evaluate(\"LSTM\", lstm_params))"
      ]
    },
    {
      "cell_type": "markdown",
      "metadata": {},
      "source": [
        "Evaluamos los resultados del mejor modelo de GRU para el dataset multiclase en el dataset binarizado"
      ]
    },
    {
      "cell_type": "code",
      "execution_count": null,
      "metadata": {
        "colab": {
          "base_uri": "https://localhost:8080/",
          "height": 677
        },
        "id": "_XaNYW8LK_b-",
        "outputId": "28713102-9d7b-4d8f-9e40-569dbafc20a1"
      },
      "outputs": [],
      "source": [
        "print(\"Resultados GRU:\")\n",
        "print(evaluate(\"GRU\", gru_params))"
      ]
    },
    {
      "cell_type": "code",
      "execution_count": null,
      "metadata": {
        "colab": {
          "base_uri": "https://localhost:8080/"
        },
        "id": "6mMc-jG4La_9",
        "outputId": "1ee4f198-57fd-42f0-b664-93ba0aac105a"
      },
      "outputs": [],
      "source": [
        "print(f\"Accuracy: {accuracy:.5f}\")\n",
        "print(f\"Precision: {precision:.5f}\")\n",
        "print(f\"Recall: {recall:.5f}\")\n",
        "print(f\"F1-score: {f1:.5f}\")"
      ]
    },
    {
      "cell_type": "markdown",
      "metadata": {},
      "source": [
        "#### XGBoost\n",
        "\n",
        "Comprobamos los resultados del XGBoost con el dataset binarizado"
      ]
    },
    {
      "cell_type": "code",
      "execution_count": null,
      "metadata": {},
      "outputs": [],
      "source": [
        "# Configuración de los mejores hiperparámetros encontrados\n",
        "best_params = {\n",
        "    'n_estimators': 172,\n",
        "    'learning_rate': 0.12678245336468844,\n",
        "    'max_depth': 11,\n",
        "    'subsample': 0.7898323873624815,\n",
        "    'colsample_bytree': 0.848728009323304,\n",
        "    'min_child_weight': 10,\n",
        "    'gamma': 0.7875794378542267,\n",
        "    'reg_alpha': 0.5787478600366702,\n",
        "    'reg_lambda': 1.1732832093441035,\n",
        "    'objective': 'multi:softmax',\n",
        "    'num_class': 7,\n",
        "    'eval_metric': 'mlogloss',\n",
        "    'use_label_encoder': False\n",
        "}\n",
        "\n",
        "model = xgb.XGBClassifier(**best_params)\n",
        "model.fit(X_train, y_train)\n",
        "\n",
        "# Predecimos el conjunto de prueba\n",
        "y_pred = model.predict(X_test)\n",
        "\n",
        "accuracy = accuracy_score(y_test, y_pred)\n",
        "precision = precision_score(y_test, y_pred, average='macro')  # Macro para equilibrar clases\n",
        "recall = recall_score(y_test, y_pred, average='macro')\n",
        "f1 = f1_score(y_test, y_pred, average='macro')\n",
        "\n",
        "# Se imprimen los resultados del mejor modelo de XGBoost\n",
        "print(f\"Accuracy: {accuracy:.4f}\")\n",
        "print(f\"Precision: {precision:.4f}\")\n",
        "print(f\"Recall: {recall:.4f}\")\n",
        "print(f\"F1-score: {f1:.4f}\")\n"
      ]
    },
    {
      "cell_type": "markdown",
      "metadata": {
        "id": "gsjYDHQtWV6J"
      },
      "source": [
        "#### VAE + LSTM\n",
        "\n",
        "Se va a evaluar el modelo propuesto VAE + LSTM para detección de anomalías"
      ]
    },
    {
      "cell_type": "code",
      "execution_count": null,
      "metadata": {
        "id": "jEOAwJMPWdhI"
      },
      "outputs": [],
      "source": [
        "X = pd.read_csv('X_train_binary_v2.csv')\n",
        "y = pd.read_csv('y_train_binary_v2.csv')"
      ]
    },
    {
      "cell_type": "markdown",
      "metadata": {},
      "source": [
        "Lo primero se va a explorar el efecto de la dimensión del espacio latente en el rendimiento del VAE + LSTM"
      ]
    },
    {
      "cell_type": "code",
      "execution_count": null,
      "metadata": {
        "id": "dMlzz8rsbwZ8"
      },
      "outputs": [],
      "source": [
        "\n",
        "def sampling(args, latent_dim):\n",
        "    z_mean, z_log_var = args\n",
        "    epsilon = K.random_normal(shape=(K.shape(z_mean)[0], latent_dim))\n",
        "    return z_mean + K.exp(0.5 * z_log_var) * epsilon\n",
        "\n",
        "def train_and_evaluate_vae_latent_dim(X, y, latent_dims, percentile=96, epochs=50, batch_size=64):\n",
        "    results = []\n",
        "\n",
        "    for latent_dim in latent_dims:\n",
        "        print(f\"\\nEvaluando VAE con latent_dim = {latent_dim}\")\n",
        "\n",
        "        # Dividimos el dataset en muestras benignas y ataques DDoS\n",
        "        X_benign = X[y == 0]\n",
        "        X_attack = X[y == 1]\n",
        "        X_benign_train, X_benign_test = train_test_split(X_benign, test_size=0.3, random_state=42)\n",
        "        X_test_combined = np.vstack([X_benign_test, X_attack])\n",
        "        y_test_combined = np.hstack([np.zeros(len(X_benign_test)), np.ones(len(X_attack))])\n",
        "\n",
        "        # Escalamos los datos\n",
        "        scaler = StandardScaler()\n",
        "        X_benign_train_scaled = scaler.fit_transform(X_benign_train)\n",
        "        X_test_scaled = scaler.transform(X_test_combined)\n",
        "\n",
        "        timesteps = 1\n",
        "        features = X.shape[1]\n",
        "        X_benign_train_reshaped = X_benign_train_scaled.reshape((-1, timesteps, features))\n",
        "        X_test_reshaped = X_test_scaled.reshape((-1, timesteps, features))\n",
        "\n",
        "        # VAE + LSTM\n",
        "        inputs = tf.keras.Input(shape=(timesteps, features))\n",
        "        x = layers.LSTM(64)(inputs)\n",
        "        z_mean = layers.Dense(latent_dim)(x)\n",
        "        z_log_var = layers.Dense(latent_dim)(x)\n",
        "        z = layers.Lambda(lambda args: sampling(args, latent_dim))([z_mean, z_log_var])\n",
        "\n",
        "        decoder_input = layers.RepeatVector(timesteps)(z)\n",
        "        decoder_lstm = layers.LSTM(64, return_sequences=True)(decoder_input)\n",
        "        decoder_output = layers.TimeDistributed(layers.Dense(features))(decoder_lstm)\n",
        "\n",
        "        vae = Model(inputs, decoder_output)\n",
        "\n",
        "        # Definición de la función de pérdidas\n",
        "        reconstruction_loss = tf.keras.losses.mse(inputs, decoder_output)\n",
        "        reconstruction_loss = tf.reduce_mean(reconstruction_loss)\n",
        "\n",
        "        kl_loss = -0.5 * tf.reduce_mean(1 + z_log_var - K.square(z_mean) - K.exp(z_log_var))\n",
        "        vae_loss = reconstruction_loss + kl_loss\n",
        "        vae.add_loss(vae_loss)\n",
        "        vae.compile(optimizer='adam')\n",
        "\n",
        "        vae.fit(X_benign_train_reshaped, X_benign_train_reshaped, epochs=epochs, batch_size=batch_size, validation_split=0.2, verbose=0)\n",
        "\n",
        "        X_reconstructed = vae.predict(X_test_reshaped, verbose=0)\n",
        "        reconstruction_error = np.mean((X_test_reshaped - X_reconstructed) ** 2, axis=(1, 2))\n",
        "\n",
        "        threshold = np.percentile(reconstruction_error[:len(X_benign_test)], percentile)\n",
        "        y_pred = (reconstruction_error > threshold).astype(int)\n",
        "\n",
        "        acc = accuracy_score(y_test_combined, y_pred)\n",
        "        prec = precision_score(y_test_combined, y_pred)\n",
        "        rec = recall_score(y_test_combined, y_pred)\n",
        "        f1 = f1_score(y_test_combined, y_pred)\n",
        "\n",
        "        results.append({\n",
        "            \"latent_dim\": latent_dim,\n",
        "            \"threshold\": threshold,\n",
        "            \"accuracy\": acc,\n",
        "            \"precision\": prec,\n",
        "            \"recall\": rec,\n",
        "            \"f1\": f1\n",
        "        })\n",
        "\n",
        "    return pd.DataFrame(results), reconstruction_error, X_benign_test, y_test_combined"
      ]
    },
    {
      "cell_type": "code",
      "execution_count": null,
      "metadata": {
        "colab": {
          "base_uri": "https://localhost:8080/"
        },
        "id": "gV6NdUDKbxSh",
        "outputId": "04e4e657-6c07-444b-cf79-a9f3211793c7"
      },
      "outputs": [],
      "source": [
        "latent_dims_to_test = [4, 8, 16, 32, 64, 128, 256]\n",
        "results_df, reconstruction_error, X_benign_test, y_test_combined = train_and_evaluate_vae_latent_dim(X, y, latent_dims_to_test, percentile=96, epochs=50)\n",
        "\n",
        "print(results_df)\n"
      ]
    },
    {
      "cell_type": "markdown",
      "metadata": {},
      "source": [
        "A continuación vemos que percentil es el mejor para el rendimiento del modelo"
      ]
    },
    {
      "cell_type": "code",
      "execution_count": null,
      "metadata": {},
      "outputs": [],
      "source": [
        "percentiles = np.arange(80, 100, 1)\n",
        "results = []\n",
        "\n",
        "for p in percentiles:\n",
        "    threshold = np.percentile(reconstruction_error[:len(X_benign_test)], p)\n",
        "    y_pred = (reconstruction_error > threshold).astype(int)\n",
        "\n",
        "    accuracy = accuracy_score(y_test_combined, y_pred)\n",
        "    precision = precision_score(y_test_combined, y_pred)\n",
        "    recall = recall_score(y_test_combined, y_pred)\n",
        "    f1 = f1_score(y_test_combined, y_pred)\n",
        "\n",
        "    results.append({\n",
        "        \"percentile\": p,\n",
        "        \"threshold\": threshold,\n",
        "        \"accuracy\": accuracy,\n",
        "        \"precision\": precision,\n",
        "        \"recall\": recall,\n",
        "        \"f1\": f1\n",
        "    })\n",
        "\n",
        "results_df = pd.DataFrame(results)\n",
        "print(results_df.sort_values(by=\"f1\", ascending=False))"
      ]
    },
    {
      "cell_type": "code",
      "execution_count": null,
      "metadata": {
        "colab": {
          "base_uri": "https://localhost:8080/",
          "height": 487
        },
        "id": "fIu0d6OvaZrr",
        "outputId": "f9f4de9e-a4fc-4339-c247-93ce8cdd1a56"
      },
      "outputs": [],
      "source": [
        "import matplotlib.pyplot as plt\n",
        "\n",
        "# Gráfica para ver la evaluación del F1-score en función del percentil\n",
        "\n",
        "highlight = results_df[results_df['percentile'] == 96].iloc[0]\n",
        "\n",
        "# Plot normal\n",
        "plt.figure(figsize=(8, 5))\n",
        "plt.plot(results_df['percentile'], results_df['f1'], marker='o', color='green', label='F1-score')\n",
        "\n",
        "# Añadimos punto resaltado del percentil 96\n",
        "plt.scatter(highlight['percentile'], highlight['f1'], color='red', s=100, label='Percentil 96')\n",
        "plt.text(highlight['percentile']+0.7, highlight['f1'],\n",
        "         f\"96 → {highlight['f1']:.4f}\", color='red')\n",
        "\n",
        "plt.xlabel('Percentil')\n",
        "plt.ylabel('F1-score')\n",
        "plt.title('F1-score vs Percentil')\n",
        "plt.grid(True)\n",
        "plt.legend()\n",
        "plt.show()\n"
      ]
    }
  ],
  "metadata": {
    "colab": {
      "machine_shape": "hm",
      "provenance": []
    },
    "kernelspec": {
      "display_name": "venv",
      "language": "python",
      "name": "python3"
    },
    "language_info": {
      "codemirror_mode": {
        "name": "ipython",
        "version": 3
      },
      "file_extension": ".py",
      "mimetype": "text/x-python",
      "name": "python",
      "nbconvert_exporter": "python",
      "pygments_lexer": "ipython3",
      "version": "3.11.0"
    },
    "widgets": {
      "application/vnd.jupyter.widget-state+json": {
        "04e9843a48ea4f6ebfc351dacbd2064e": {
          "model_module": "@jupyter-widgets/controls",
          "model_module_version": "1.5.0",
          "model_name": "FloatProgressModel",
          "state": {
            "_dom_classes": [],
            "_model_module": "@jupyter-widgets/controls",
            "_model_module_version": "1.5.0",
            "_model_name": "FloatProgressModel",
            "_view_count": null,
            "_view_module": "@jupyter-widgets/controls",
            "_view_module_version": "1.5.0",
            "_view_name": "ProgressView",
            "bar_style": "success",
            "description": "",
            "description_tooltip": null,
            "layout": "IPY_MODEL_e4f5e39fd7cc49188fd3ed25ca89224f",
            "max": 213450,
            "min": 0,
            "orientation": "horizontal",
            "style": "IPY_MODEL_c1431982044948a0a18cb5ef520565b1",
            "value": 213450
          }
        },
        "0eea664b548a417fab26ee342d26bdfc": {
          "model_module": "@jupyter-widgets/base",
          "model_module_version": "1.2.0",
          "model_name": "LayoutModel",
          "state": {
            "_model_module": "@jupyter-widgets/base",
            "_model_module_version": "1.2.0",
            "_model_name": "LayoutModel",
            "_view_count": null,
            "_view_module": "@jupyter-widgets/base",
            "_view_module_version": "1.2.0",
            "_view_name": "LayoutView",
            "align_content": null,
            "align_items": null,
            "align_self": null,
            "border": null,
            "bottom": null,
            "display": null,
            "flex": null,
            "flex_flow": null,
            "grid_area": null,
            "grid_auto_columns": null,
            "grid_auto_flow": null,
            "grid_auto_rows": null,
            "grid_column": null,
            "grid_gap": null,
            "grid_row": null,
            "grid_template_areas": null,
            "grid_template_columns": null,
            "grid_template_rows": null,
            "height": null,
            "justify_content": null,
            "justify_items": null,
            "left": null,
            "margin": null,
            "max_height": null,
            "max_width": null,
            "min_height": null,
            "min_width": null,
            "object_fit": null,
            "object_position": null,
            "order": null,
            "overflow": null,
            "overflow_x": null,
            "overflow_y": null,
            "padding": null,
            "right": null,
            "top": null,
            "visibility": null,
            "width": null
          }
        },
        "21404a4c406644f0adfc8c2b5f5d44fa": {
          "model_module": "@jupyter-widgets/controls",
          "model_module_version": "1.5.0",
          "model_name": "DescriptionStyleModel",
          "state": {
            "_model_module": "@jupyter-widgets/controls",
            "_model_module_version": "1.5.0",
            "_model_name": "DescriptionStyleModel",
            "_view_count": null,
            "_view_module": "@jupyter-widgets/base",
            "_view_module_version": "1.2.0",
            "_view_name": "StyleView",
            "description_width": ""
          }
        },
        "286736c221bd4d69bf248874ecf83068": {
          "model_module": "@jupyter-widgets/controls",
          "model_module_version": "1.5.0",
          "model_name": "FloatProgressModel",
          "state": {
            "_dom_classes": [],
            "_model_module": "@jupyter-widgets/controls",
            "_model_module_version": "1.5.0",
            "_model_name": "FloatProgressModel",
            "_view_count": null,
            "_view_module": "@jupyter-widgets/controls",
            "_view_module_version": "1.5.0",
            "_view_name": "ProgressView",
            "bar_style": "success",
            "description": "",
            "description_tooltip": null,
            "layout": "IPY_MODEL_cd3c10b4aac8447d98a9db09fd171ad8",
            "max": 49,
            "min": 0,
            "orientation": "horizontal",
            "style": "IPY_MODEL_9dd4d92806cf494d874d60c7ec1effa0",
            "value": 49
          }
        },
        "2ec7b69def3446c2b0460b426cc6260b": {
          "model_module": "@jupyter-widgets/controls",
          "model_module_version": "1.5.0",
          "model_name": "DescriptionStyleModel",
          "state": {
            "_model_module": "@jupyter-widgets/controls",
            "_model_module_version": "1.5.0",
            "_model_name": "DescriptionStyleModel",
            "_view_count": null,
            "_view_module": "@jupyter-widgets/base",
            "_view_module_version": "1.2.0",
            "_view_name": "StyleView",
            "description_width": ""
          }
        },
        "30a3a55a1ba94490bd90629936a47aca": {
          "model_module": "@jupyter-widgets/controls",
          "model_module_version": "1.5.0",
          "model_name": "HTMLModel",
          "state": {
            "_dom_classes": [],
            "_model_module": "@jupyter-widgets/controls",
            "_model_module_version": "1.5.0",
            "_model_name": "HTMLModel",
            "_view_count": null,
            "_view_module": "@jupyter-widgets/controls",
            "_view_module_version": "1.5.0",
            "_view_name": "HTMLView",
            "description": "",
            "description_tooltip": null,
            "layout": "IPY_MODEL_3d684a0c9b26481da5fe90eef540380b",
            "placeholder": "​",
            "style": "IPY_MODEL_c2218f3ac2f1466c8716f570e6fd9aac",
            "value": " 465/465 [00:00&lt;00:00, 54.9kB/s]"
          }
        },
        "3146b25929ba41c589e186f4f1e50756": {
          "model_module": "@jupyter-widgets/controls",
          "model_module_version": "1.5.0",
          "model_name": "HTMLModel",
          "state": {
            "_dom_classes": [],
            "_model_module": "@jupyter-widgets/controls",
            "_model_module_version": "1.5.0",
            "_model_name": "HTMLModel",
            "_view_count": null,
            "_view_module": "@jupyter-widgets/controls",
            "_view_module_version": "1.5.0",
            "_view_name": "HTMLView",
            "description": "",
            "description_tooltip": null,
            "layout": "IPY_MODEL_0eea664b548a417fab26ee342d26bdfc",
            "placeholder": "​",
            "style": "IPY_MODEL_bbbce606469944e2a3c759e68eb9116f",
            "value": "tokenizer.json: 100%"
          }
        },
        "36ebbebaaca64dcfa61da8e45140c503": {
          "model_module": "@jupyter-widgets/controls",
          "model_module_version": "1.5.0",
          "model_name": "ProgressStyleModel",
          "state": {
            "_model_module": "@jupyter-widgets/controls",
            "_model_module_version": "1.5.0",
            "_model_name": "ProgressStyleModel",
            "_view_count": null,
            "_view_module": "@jupyter-widgets/base",
            "_view_module_version": "1.2.0",
            "_view_name": "StyleView",
            "bar_color": null,
            "description_width": ""
          }
        },
        "38067256a5164c54a36b3bf83f5ff4c3": {
          "model_module": "@jupyter-widgets/controls",
          "model_module_version": "1.5.0",
          "model_name": "HBoxModel",
          "state": {
            "_dom_classes": [],
            "_model_module": "@jupyter-widgets/controls",
            "_model_module_version": "1.5.0",
            "_model_name": "HBoxModel",
            "_view_count": null,
            "_view_module": "@jupyter-widgets/controls",
            "_view_module_version": "1.5.0",
            "_view_name": "HBoxView",
            "box_style": "",
            "children": [
              "IPY_MODEL_edebfba165524ffc80b34b86f6755331",
              "IPY_MODEL_286736c221bd4d69bf248874ecf83068",
              "IPY_MODEL_fea83cc1030444b48f756b78518861c3"
            ],
            "layout": "IPY_MODEL_694e4f7d21764f53a754d761d5594dbd"
          }
        },
        "3d684a0c9b26481da5fe90eef540380b": {
          "model_module": "@jupyter-widgets/base",
          "model_module_version": "1.2.0",
          "model_name": "LayoutModel",
          "state": {
            "_model_module": "@jupyter-widgets/base",
            "_model_module_version": "1.2.0",
            "_model_name": "LayoutModel",
            "_view_count": null,
            "_view_module": "@jupyter-widgets/base",
            "_view_module_version": "1.2.0",
            "_view_name": "LayoutView",
            "align_content": null,
            "align_items": null,
            "align_self": null,
            "border": null,
            "bottom": null,
            "display": null,
            "flex": null,
            "flex_flow": null,
            "grid_area": null,
            "grid_auto_columns": null,
            "grid_auto_flow": null,
            "grid_auto_rows": null,
            "grid_column": null,
            "grid_gap": null,
            "grid_row": null,
            "grid_template_areas": null,
            "grid_template_columns": null,
            "grid_template_rows": null,
            "height": null,
            "justify_content": null,
            "justify_items": null,
            "left": null,
            "margin": null,
            "max_height": null,
            "max_width": null,
            "min_height": null,
            "min_width": null,
            "object_fit": null,
            "object_position": null,
            "order": null,
            "overflow": null,
            "overflow_x": null,
            "overflow_y": null,
            "padding": null,
            "right": null,
            "top": null,
            "visibility": null,
            "width": null
          }
        },
        "4a819c578b604ee487f1a9b5378dab06": {
          "model_module": "@jupyter-widgets/controls",
          "model_module_version": "1.5.0",
          "model_name": "FloatProgressModel",
          "state": {
            "_dom_classes": [],
            "_model_module": "@jupyter-widgets/controls",
            "_model_module_version": "1.5.0",
            "_model_name": "FloatProgressModel",
            "_view_count": null,
            "_view_module": "@jupyter-widgets/controls",
            "_view_module_version": "1.5.0",
            "_view_name": "ProgressView",
            "bar_style": "success",
            "description": "",
            "description_tooltip": null,
            "layout": "IPY_MODEL_e7bd31fdf5fe412eaf39998633916255",
            "max": 465,
            "min": 0,
            "orientation": "horizontal",
            "style": "IPY_MODEL_5a03a4c818274bd1a993635525329115",
            "value": 465
          }
        },
        "5a03a4c818274bd1a993635525329115": {
          "model_module": "@jupyter-widgets/controls",
          "model_module_version": "1.5.0",
          "model_name": "ProgressStyleModel",
          "state": {
            "_model_module": "@jupyter-widgets/controls",
            "_model_module_version": "1.5.0",
            "_model_name": "ProgressStyleModel",
            "_view_count": null,
            "_view_module": "@jupyter-widgets/base",
            "_view_module_version": "1.2.0",
            "_view_name": "StyleView",
            "bar_color": null,
            "description_width": ""
          }
        },
        "5d2e53469c8a4959be77310d3427a0e6": {
          "model_module": "@jupyter-widgets/controls",
          "model_module_version": "1.5.0",
          "model_name": "HBoxModel",
          "state": {
            "_dom_classes": [],
            "_model_module": "@jupyter-widgets/controls",
            "_model_module_version": "1.5.0",
            "_model_name": "HBoxModel",
            "_view_count": null,
            "_view_module": "@jupyter-widgets/controls",
            "_view_module_version": "1.5.0",
            "_view_name": "HBoxView",
            "box_style": "",
            "children": [
              "IPY_MODEL_a151dc1c289d4503bd01197c4b98fc7b",
              "IPY_MODEL_4a819c578b604ee487f1a9b5378dab06",
              "IPY_MODEL_30a3a55a1ba94490bd90629936a47aca"
            ],
            "layout": "IPY_MODEL_d6b6adfcf05d46aa80ee3769ed35b76e"
          }
        },
        "63e1d369bac0477ab982a7395998aa20": {
          "model_module": "@jupyter-widgets/controls",
          "model_module_version": "1.5.0",
          "model_name": "HBoxModel",
          "state": {
            "_dom_classes": [],
            "_model_module": "@jupyter-widgets/controls",
            "_model_module_version": "1.5.0",
            "_model_name": "HBoxModel",
            "_view_count": null,
            "_view_module": "@jupyter-widgets/controls",
            "_view_module_version": "1.5.0",
            "_view_name": "HBoxView",
            "box_style": "",
            "children": [
              "IPY_MODEL_728a94f7397f492da3b9878f59a34fe5",
              "IPY_MODEL_04e9843a48ea4f6ebfc351dacbd2064e",
              "IPY_MODEL_f87e549be855434f8d5169d05ad5aeaa"
            ],
            "layout": "IPY_MODEL_da493c0b2e5248ae81febade18bf4df6"
          }
        },
        "67c445106ed849e9a8f25c50305709f4": {
          "model_module": "@jupyter-widgets/controls",
          "model_module_version": "1.5.0",
          "model_name": "DescriptionStyleModel",
          "state": {
            "_model_module": "@jupyter-widgets/controls",
            "_model_module_version": "1.5.0",
            "_model_name": "DescriptionStyleModel",
            "_view_count": null,
            "_view_module": "@jupyter-widgets/base",
            "_view_module_version": "1.2.0",
            "_view_name": "StyleView",
            "description_width": ""
          }
        },
        "694e4f7d21764f53a754d761d5594dbd": {
          "model_module": "@jupyter-widgets/base",
          "model_module_version": "1.2.0",
          "model_name": "LayoutModel",
          "state": {
            "_model_module": "@jupyter-widgets/base",
            "_model_module_version": "1.2.0",
            "_model_name": "LayoutModel",
            "_view_count": null,
            "_view_module": "@jupyter-widgets/base",
            "_view_module_version": "1.2.0",
            "_view_name": "LayoutView",
            "align_content": null,
            "align_items": null,
            "align_self": null,
            "border": null,
            "bottom": null,
            "display": null,
            "flex": null,
            "flex_flow": null,
            "grid_area": null,
            "grid_auto_columns": null,
            "grid_auto_flow": null,
            "grid_auto_rows": null,
            "grid_column": null,
            "grid_gap": null,
            "grid_row": null,
            "grid_template_areas": null,
            "grid_template_columns": null,
            "grid_template_rows": null,
            "height": null,
            "justify_content": null,
            "justify_items": null,
            "left": null,
            "margin": null,
            "max_height": null,
            "max_width": null,
            "min_height": null,
            "min_width": null,
            "object_fit": null,
            "object_position": null,
            "order": null,
            "overflow": null,
            "overflow_x": null,
            "overflow_y": null,
            "padding": null,
            "right": null,
            "top": null,
            "visibility": null,
            "width": null
          }
        },
        "728a94f7397f492da3b9878f59a34fe5": {
          "model_module": "@jupyter-widgets/controls",
          "model_module_version": "1.5.0",
          "model_name": "HTMLModel",
          "state": {
            "_dom_classes": [],
            "_model_module": "@jupyter-widgets/controls",
            "_model_module_version": "1.5.0",
            "_model_name": "HTMLModel",
            "_view_count": null,
            "_view_module": "@jupyter-widgets/controls",
            "_view_module_version": "1.5.0",
            "_view_name": "HTMLView",
            "description": "",
            "description_tooltip": null,
            "layout": "IPY_MODEL_ec8e7ba119564ea3a819802a0052824c",
            "placeholder": "​",
            "style": "IPY_MODEL_e73478017bab4d84b8c62e335d177fdb",
            "value": "vocab.txt: 100%"
          }
        },
        "74eddd029a4b47049fa8d8b7225eed36": {
          "model_module": "@jupyter-widgets/controls",
          "model_module_version": "1.5.0",
          "model_name": "HTMLModel",
          "state": {
            "_dom_classes": [],
            "_model_module": "@jupyter-widgets/controls",
            "_model_module_version": "1.5.0",
            "_model_name": "HTMLModel",
            "_view_count": null,
            "_view_module": "@jupyter-widgets/controls",
            "_view_module_version": "1.5.0",
            "_view_name": "HTMLView",
            "description": "",
            "description_tooltip": null,
            "layout": "IPY_MODEL_a0404b51b7404f28b419700e7fe8ad4a",
            "placeholder": "​",
            "style": "IPY_MODEL_f679a582f800489bb5bd9fb289fd2462",
            "value": " 436k/436k [00:00&lt;00:00, 5.21MB/s]"
          }
        },
        "886a31e6e37b4c139d285124b3e8f294": {
          "model_module": "@jupyter-widgets/controls",
          "model_module_version": "1.5.0",
          "model_name": "DescriptionStyleModel",
          "state": {
            "_model_module": "@jupyter-widgets/controls",
            "_model_module_version": "1.5.0",
            "_model_name": "DescriptionStyleModel",
            "_view_count": null,
            "_view_module": "@jupyter-widgets/base",
            "_view_module_version": "1.2.0",
            "_view_name": "StyleView",
            "description_width": ""
          }
        },
        "9dd4d92806cf494d874d60c7ec1effa0": {
          "model_module": "@jupyter-widgets/controls",
          "model_module_version": "1.5.0",
          "model_name": "ProgressStyleModel",
          "state": {
            "_model_module": "@jupyter-widgets/controls",
            "_model_module_version": "1.5.0",
            "_model_name": "ProgressStyleModel",
            "_view_count": null,
            "_view_module": "@jupyter-widgets/base",
            "_view_module_version": "1.2.0",
            "_view_name": "StyleView",
            "bar_color": null,
            "description_width": ""
          }
        },
        "a0404b51b7404f28b419700e7fe8ad4a": {
          "model_module": "@jupyter-widgets/base",
          "model_module_version": "1.2.0",
          "model_name": "LayoutModel",
          "state": {
            "_model_module": "@jupyter-widgets/base",
            "_model_module_version": "1.2.0",
            "_model_name": "LayoutModel",
            "_view_count": null,
            "_view_module": "@jupyter-widgets/base",
            "_view_module_version": "1.2.0",
            "_view_name": "LayoutView",
            "align_content": null,
            "align_items": null,
            "align_self": null,
            "border": null,
            "bottom": null,
            "display": null,
            "flex": null,
            "flex_flow": null,
            "grid_area": null,
            "grid_auto_columns": null,
            "grid_auto_flow": null,
            "grid_auto_rows": null,
            "grid_column": null,
            "grid_gap": null,
            "grid_row": null,
            "grid_template_areas": null,
            "grid_template_columns": null,
            "grid_template_rows": null,
            "height": null,
            "justify_content": null,
            "justify_items": null,
            "left": null,
            "margin": null,
            "max_height": null,
            "max_width": null,
            "min_height": null,
            "min_width": null,
            "object_fit": null,
            "object_position": null,
            "order": null,
            "overflow": null,
            "overflow_x": null,
            "overflow_y": null,
            "padding": null,
            "right": null,
            "top": null,
            "visibility": null,
            "width": null
          }
        },
        "a151dc1c289d4503bd01197c4b98fc7b": {
          "model_module": "@jupyter-widgets/controls",
          "model_module_version": "1.5.0",
          "model_name": "HTMLModel",
          "state": {
            "_dom_classes": [],
            "_model_module": "@jupyter-widgets/controls",
            "_model_module_version": "1.5.0",
            "_model_name": "HTMLModel",
            "_view_count": null,
            "_view_module": "@jupyter-widgets/controls",
            "_view_module_version": "1.5.0",
            "_view_name": "HTMLView",
            "description": "",
            "description_tooltip": null,
            "layout": "IPY_MODEL_d732749070af4b108339dde2b4acdc9e",
            "placeholder": "​",
            "style": "IPY_MODEL_2ec7b69def3446c2b0460b426cc6260b",
            "value": "config.json: 100%"
          }
        },
        "a89e8d54ef14439b923d469e03c22814": {
          "model_module": "@jupyter-widgets/base",
          "model_module_version": "1.2.0",
          "model_name": "LayoutModel",
          "state": {
            "_model_module": "@jupyter-widgets/base",
            "_model_module_version": "1.2.0",
            "_model_name": "LayoutModel",
            "_view_count": null,
            "_view_module": "@jupyter-widgets/base",
            "_view_module_version": "1.2.0",
            "_view_name": "LayoutView",
            "align_content": null,
            "align_items": null,
            "align_self": null,
            "border": null,
            "bottom": null,
            "display": null,
            "flex": null,
            "flex_flow": null,
            "grid_area": null,
            "grid_auto_columns": null,
            "grid_auto_flow": null,
            "grid_auto_rows": null,
            "grid_column": null,
            "grid_gap": null,
            "grid_row": null,
            "grid_template_areas": null,
            "grid_template_columns": null,
            "grid_template_rows": null,
            "height": null,
            "justify_content": null,
            "justify_items": null,
            "left": null,
            "margin": null,
            "max_height": null,
            "max_width": null,
            "min_height": null,
            "min_width": null,
            "object_fit": null,
            "object_position": null,
            "order": null,
            "overflow": null,
            "overflow_x": null,
            "overflow_y": null,
            "padding": null,
            "right": null,
            "top": null,
            "visibility": null,
            "width": null
          }
        },
        "ac53da9372744220bab7912818eecd68": {
          "model_module": "@jupyter-widgets/controls",
          "model_module_version": "1.5.0",
          "model_name": "HBoxModel",
          "state": {
            "_dom_classes": [],
            "_model_module": "@jupyter-widgets/controls",
            "_model_module_version": "1.5.0",
            "_model_name": "HBoxModel",
            "_view_count": null,
            "_view_module": "@jupyter-widgets/controls",
            "_view_module_version": "1.5.0",
            "_view_name": "HBoxView",
            "box_style": "",
            "children": [
              "IPY_MODEL_3146b25929ba41c589e186f4f1e50756",
              "IPY_MODEL_cc899a69a8c3478bbb74fc48fe5d4696",
              "IPY_MODEL_74eddd029a4b47049fa8d8b7225eed36"
            ],
            "layout": "IPY_MODEL_de3b3cbb44c446ca9a7a8353a0dc4e4c"
          }
        },
        "bbbce606469944e2a3c759e68eb9116f": {
          "model_module": "@jupyter-widgets/controls",
          "model_module_version": "1.5.0",
          "model_name": "DescriptionStyleModel",
          "state": {
            "_model_module": "@jupyter-widgets/controls",
            "_model_module_version": "1.5.0",
            "_model_name": "DescriptionStyleModel",
            "_view_count": null,
            "_view_module": "@jupyter-widgets/base",
            "_view_module_version": "1.2.0",
            "_view_name": "StyleView",
            "description_width": ""
          }
        },
        "bf50d1c9d80d4f25aa602db06a1933af": {
          "model_module": "@jupyter-widgets/base",
          "model_module_version": "1.2.0",
          "model_name": "LayoutModel",
          "state": {
            "_model_module": "@jupyter-widgets/base",
            "_model_module_version": "1.2.0",
            "_model_name": "LayoutModel",
            "_view_count": null,
            "_view_module": "@jupyter-widgets/base",
            "_view_module_version": "1.2.0",
            "_view_name": "LayoutView",
            "align_content": null,
            "align_items": null,
            "align_self": null,
            "border": null,
            "bottom": null,
            "display": null,
            "flex": null,
            "flex_flow": null,
            "grid_area": null,
            "grid_auto_columns": null,
            "grid_auto_flow": null,
            "grid_auto_rows": null,
            "grid_column": null,
            "grid_gap": null,
            "grid_row": null,
            "grid_template_areas": null,
            "grid_template_columns": null,
            "grid_template_rows": null,
            "height": null,
            "justify_content": null,
            "justify_items": null,
            "left": null,
            "margin": null,
            "max_height": null,
            "max_width": null,
            "min_height": null,
            "min_width": null,
            "object_fit": null,
            "object_position": null,
            "order": null,
            "overflow": null,
            "overflow_x": null,
            "overflow_y": null,
            "padding": null,
            "right": null,
            "top": null,
            "visibility": null,
            "width": null
          }
        },
        "c1431982044948a0a18cb5ef520565b1": {
          "model_module": "@jupyter-widgets/controls",
          "model_module_version": "1.5.0",
          "model_name": "ProgressStyleModel",
          "state": {
            "_model_module": "@jupyter-widgets/controls",
            "_model_module_version": "1.5.0",
            "_model_name": "ProgressStyleModel",
            "_view_count": null,
            "_view_module": "@jupyter-widgets/base",
            "_view_module_version": "1.2.0",
            "_view_name": "StyleView",
            "bar_color": null,
            "description_width": ""
          }
        },
        "c2218f3ac2f1466c8716f570e6fd9aac": {
          "model_module": "@jupyter-widgets/controls",
          "model_module_version": "1.5.0",
          "model_name": "DescriptionStyleModel",
          "state": {
            "_model_module": "@jupyter-widgets/controls",
            "_model_module_version": "1.5.0",
            "_model_name": "DescriptionStyleModel",
            "_view_count": null,
            "_view_module": "@jupyter-widgets/base",
            "_view_module_version": "1.2.0",
            "_view_name": "StyleView",
            "description_width": ""
          }
        },
        "c7a77a074a794a2aa5fcce5c47bddde3": {
          "model_module": "@jupyter-widgets/base",
          "model_module_version": "1.2.0",
          "model_name": "LayoutModel",
          "state": {
            "_model_module": "@jupyter-widgets/base",
            "_model_module_version": "1.2.0",
            "_model_name": "LayoutModel",
            "_view_count": null,
            "_view_module": "@jupyter-widgets/base",
            "_view_module_version": "1.2.0",
            "_view_name": "LayoutView",
            "align_content": null,
            "align_items": null,
            "align_self": null,
            "border": null,
            "bottom": null,
            "display": null,
            "flex": null,
            "flex_flow": null,
            "grid_area": null,
            "grid_auto_columns": null,
            "grid_auto_flow": null,
            "grid_auto_rows": null,
            "grid_column": null,
            "grid_gap": null,
            "grid_row": null,
            "grid_template_areas": null,
            "grid_template_columns": null,
            "grid_template_rows": null,
            "height": null,
            "justify_content": null,
            "justify_items": null,
            "left": null,
            "margin": null,
            "max_height": null,
            "max_width": null,
            "min_height": null,
            "min_width": null,
            "object_fit": null,
            "object_position": null,
            "order": null,
            "overflow": null,
            "overflow_x": null,
            "overflow_y": null,
            "padding": null,
            "right": null,
            "top": null,
            "visibility": null,
            "width": null
          }
        },
        "cc899a69a8c3478bbb74fc48fe5d4696": {
          "model_module": "@jupyter-widgets/controls",
          "model_module_version": "1.5.0",
          "model_name": "FloatProgressModel",
          "state": {
            "_dom_classes": [],
            "_model_module": "@jupyter-widgets/controls",
            "_model_module_version": "1.5.0",
            "_model_name": "FloatProgressModel",
            "_view_count": null,
            "_view_module": "@jupyter-widgets/controls",
            "_view_module_version": "1.5.0",
            "_view_name": "ProgressView",
            "bar_style": "success",
            "description": "",
            "description_tooltip": null,
            "layout": "IPY_MODEL_bf50d1c9d80d4f25aa602db06a1933af",
            "max": 435797,
            "min": 0,
            "orientation": "horizontal",
            "style": "IPY_MODEL_36ebbebaaca64dcfa61da8e45140c503",
            "value": 435797
          }
        },
        "cd3c10b4aac8447d98a9db09fd171ad8": {
          "model_module": "@jupyter-widgets/base",
          "model_module_version": "1.2.0",
          "model_name": "LayoutModel",
          "state": {
            "_model_module": "@jupyter-widgets/base",
            "_model_module_version": "1.2.0",
            "_model_name": "LayoutModel",
            "_view_count": null,
            "_view_module": "@jupyter-widgets/base",
            "_view_module_version": "1.2.0",
            "_view_name": "LayoutView",
            "align_content": null,
            "align_items": null,
            "align_self": null,
            "border": null,
            "bottom": null,
            "display": null,
            "flex": null,
            "flex_flow": null,
            "grid_area": null,
            "grid_auto_columns": null,
            "grid_auto_flow": null,
            "grid_auto_rows": null,
            "grid_column": null,
            "grid_gap": null,
            "grid_row": null,
            "grid_template_areas": null,
            "grid_template_columns": null,
            "grid_template_rows": null,
            "height": null,
            "justify_content": null,
            "justify_items": null,
            "left": null,
            "margin": null,
            "max_height": null,
            "max_width": null,
            "min_height": null,
            "min_width": null,
            "object_fit": null,
            "object_position": null,
            "order": null,
            "overflow": null,
            "overflow_x": null,
            "overflow_y": null,
            "padding": null,
            "right": null,
            "top": null,
            "visibility": null,
            "width": null
          }
        },
        "d04e3adb689b4679a4fc8c590d9056e3": {
          "model_module": "@jupyter-widgets/base",
          "model_module_version": "1.2.0",
          "model_name": "LayoutModel",
          "state": {
            "_model_module": "@jupyter-widgets/base",
            "_model_module_version": "1.2.0",
            "_model_name": "LayoutModel",
            "_view_count": null,
            "_view_module": "@jupyter-widgets/base",
            "_view_module_version": "1.2.0",
            "_view_name": "LayoutView",
            "align_content": null,
            "align_items": null,
            "align_self": null,
            "border": null,
            "bottom": null,
            "display": null,
            "flex": null,
            "flex_flow": null,
            "grid_area": null,
            "grid_auto_columns": null,
            "grid_auto_flow": null,
            "grid_auto_rows": null,
            "grid_column": null,
            "grid_gap": null,
            "grid_row": null,
            "grid_template_areas": null,
            "grid_template_columns": null,
            "grid_template_rows": null,
            "height": null,
            "justify_content": null,
            "justify_items": null,
            "left": null,
            "margin": null,
            "max_height": null,
            "max_width": null,
            "min_height": null,
            "min_width": null,
            "object_fit": null,
            "object_position": null,
            "order": null,
            "overflow": null,
            "overflow_x": null,
            "overflow_y": null,
            "padding": null,
            "right": null,
            "top": null,
            "visibility": null,
            "width": null
          }
        },
        "d6b6adfcf05d46aa80ee3769ed35b76e": {
          "model_module": "@jupyter-widgets/base",
          "model_module_version": "1.2.0",
          "model_name": "LayoutModel",
          "state": {
            "_model_module": "@jupyter-widgets/base",
            "_model_module_version": "1.2.0",
            "_model_name": "LayoutModel",
            "_view_count": null,
            "_view_module": "@jupyter-widgets/base",
            "_view_module_version": "1.2.0",
            "_view_name": "LayoutView",
            "align_content": null,
            "align_items": null,
            "align_self": null,
            "border": null,
            "bottom": null,
            "display": null,
            "flex": null,
            "flex_flow": null,
            "grid_area": null,
            "grid_auto_columns": null,
            "grid_auto_flow": null,
            "grid_auto_rows": null,
            "grid_column": null,
            "grid_gap": null,
            "grid_row": null,
            "grid_template_areas": null,
            "grid_template_columns": null,
            "grid_template_rows": null,
            "height": null,
            "justify_content": null,
            "justify_items": null,
            "left": null,
            "margin": null,
            "max_height": null,
            "max_width": null,
            "min_height": null,
            "min_width": null,
            "object_fit": null,
            "object_position": null,
            "order": null,
            "overflow": null,
            "overflow_x": null,
            "overflow_y": null,
            "padding": null,
            "right": null,
            "top": null,
            "visibility": null,
            "width": null
          }
        },
        "d732749070af4b108339dde2b4acdc9e": {
          "model_module": "@jupyter-widgets/base",
          "model_module_version": "1.2.0",
          "model_name": "LayoutModel",
          "state": {
            "_model_module": "@jupyter-widgets/base",
            "_model_module_version": "1.2.0",
            "_model_name": "LayoutModel",
            "_view_count": null,
            "_view_module": "@jupyter-widgets/base",
            "_view_module_version": "1.2.0",
            "_view_name": "LayoutView",
            "align_content": null,
            "align_items": null,
            "align_self": null,
            "border": null,
            "bottom": null,
            "display": null,
            "flex": null,
            "flex_flow": null,
            "grid_area": null,
            "grid_auto_columns": null,
            "grid_auto_flow": null,
            "grid_auto_rows": null,
            "grid_column": null,
            "grid_gap": null,
            "grid_row": null,
            "grid_template_areas": null,
            "grid_template_columns": null,
            "grid_template_rows": null,
            "height": null,
            "justify_content": null,
            "justify_items": null,
            "left": null,
            "margin": null,
            "max_height": null,
            "max_width": null,
            "min_height": null,
            "min_width": null,
            "object_fit": null,
            "object_position": null,
            "order": null,
            "overflow": null,
            "overflow_x": null,
            "overflow_y": null,
            "padding": null,
            "right": null,
            "top": null,
            "visibility": null,
            "width": null
          }
        },
        "da493c0b2e5248ae81febade18bf4df6": {
          "model_module": "@jupyter-widgets/base",
          "model_module_version": "1.2.0",
          "model_name": "LayoutModel",
          "state": {
            "_model_module": "@jupyter-widgets/base",
            "_model_module_version": "1.2.0",
            "_model_name": "LayoutModel",
            "_view_count": null,
            "_view_module": "@jupyter-widgets/base",
            "_view_module_version": "1.2.0",
            "_view_name": "LayoutView",
            "align_content": null,
            "align_items": null,
            "align_self": null,
            "border": null,
            "bottom": null,
            "display": null,
            "flex": null,
            "flex_flow": null,
            "grid_area": null,
            "grid_auto_columns": null,
            "grid_auto_flow": null,
            "grid_auto_rows": null,
            "grid_column": null,
            "grid_gap": null,
            "grid_row": null,
            "grid_template_areas": null,
            "grid_template_columns": null,
            "grid_template_rows": null,
            "height": null,
            "justify_content": null,
            "justify_items": null,
            "left": null,
            "margin": null,
            "max_height": null,
            "max_width": null,
            "min_height": null,
            "min_width": null,
            "object_fit": null,
            "object_position": null,
            "order": null,
            "overflow": null,
            "overflow_x": null,
            "overflow_y": null,
            "padding": null,
            "right": null,
            "top": null,
            "visibility": null,
            "width": null
          }
        },
        "de3b3cbb44c446ca9a7a8353a0dc4e4c": {
          "model_module": "@jupyter-widgets/base",
          "model_module_version": "1.2.0",
          "model_name": "LayoutModel",
          "state": {
            "_model_module": "@jupyter-widgets/base",
            "_model_module_version": "1.2.0",
            "_model_name": "LayoutModel",
            "_view_count": null,
            "_view_module": "@jupyter-widgets/base",
            "_view_module_version": "1.2.0",
            "_view_name": "LayoutView",
            "align_content": null,
            "align_items": null,
            "align_self": null,
            "border": null,
            "bottom": null,
            "display": null,
            "flex": null,
            "flex_flow": null,
            "grid_area": null,
            "grid_auto_columns": null,
            "grid_auto_flow": null,
            "grid_auto_rows": null,
            "grid_column": null,
            "grid_gap": null,
            "grid_row": null,
            "grid_template_areas": null,
            "grid_template_columns": null,
            "grid_template_rows": null,
            "height": null,
            "justify_content": null,
            "justify_items": null,
            "left": null,
            "margin": null,
            "max_height": null,
            "max_width": null,
            "min_height": null,
            "min_width": null,
            "object_fit": null,
            "object_position": null,
            "order": null,
            "overflow": null,
            "overflow_x": null,
            "overflow_y": null,
            "padding": null,
            "right": null,
            "top": null,
            "visibility": null,
            "width": null
          }
        },
        "e4f5e39fd7cc49188fd3ed25ca89224f": {
          "model_module": "@jupyter-widgets/base",
          "model_module_version": "1.2.0",
          "model_name": "LayoutModel",
          "state": {
            "_model_module": "@jupyter-widgets/base",
            "_model_module_version": "1.2.0",
            "_model_name": "LayoutModel",
            "_view_count": null,
            "_view_module": "@jupyter-widgets/base",
            "_view_module_version": "1.2.0",
            "_view_name": "LayoutView",
            "align_content": null,
            "align_items": null,
            "align_self": null,
            "border": null,
            "bottom": null,
            "display": null,
            "flex": null,
            "flex_flow": null,
            "grid_area": null,
            "grid_auto_columns": null,
            "grid_auto_flow": null,
            "grid_auto_rows": null,
            "grid_column": null,
            "grid_gap": null,
            "grid_row": null,
            "grid_template_areas": null,
            "grid_template_columns": null,
            "grid_template_rows": null,
            "height": null,
            "justify_content": null,
            "justify_items": null,
            "left": null,
            "margin": null,
            "max_height": null,
            "max_width": null,
            "min_height": null,
            "min_width": null,
            "object_fit": null,
            "object_position": null,
            "order": null,
            "overflow": null,
            "overflow_x": null,
            "overflow_y": null,
            "padding": null,
            "right": null,
            "top": null,
            "visibility": null,
            "width": null
          }
        },
        "e73478017bab4d84b8c62e335d177fdb": {
          "model_module": "@jupyter-widgets/controls",
          "model_module_version": "1.5.0",
          "model_name": "DescriptionStyleModel",
          "state": {
            "_model_module": "@jupyter-widgets/controls",
            "_model_module_version": "1.5.0",
            "_model_name": "DescriptionStyleModel",
            "_view_count": null,
            "_view_module": "@jupyter-widgets/base",
            "_view_module_version": "1.2.0",
            "_view_name": "StyleView",
            "description_width": ""
          }
        },
        "e7bd31fdf5fe412eaf39998633916255": {
          "model_module": "@jupyter-widgets/base",
          "model_module_version": "1.2.0",
          "model_name": "LayoutModel",
          "state": {
            "_model_module": "@jupyter-widgets/base",
            "_model_module_version": "1.2.0",
            "_model_name": "LayoutModel",
            "_view_count": null,
            "_view_module": "@jupyter-widgets/base",
            "_view_module_version": "1.2.0",
            "_view_name": "LayoutView",
            "align_content": null,
            "align_items": null,
            "align_self": null,
            "border": null,
            "bottom": null,
            "display": null,
            "flex": null,
            "flex_flow": null,
            "grid_area": null,
            "grid_auto_columns": null,
            "grid_auto_flow": null,
            "grid_auto_rows": null,
            "grid_column": null,
            "grid_gap": null,
            "grid_row": null,
            "grid_template_areas": null,
            "grid_template_columns": null,
            "grid_template_rows": null,
            "height": null,
            "justify_content": null,
            "justify_items": null,
            "left": null,
            "margin": null,
            "max_height": null,
            "max_width": null,
            "min_height": null,
            "min_width": null,
            "object_fit": null,
            "object_position": null,
            "order": null,
            "overflow": null,
            "overflow_x": null,
            "overflow_y": null,
            "padding": null,
            "right": null,
            "top": null,
            "visibility": null,
            "width": null
          }
        },
        "ec8e7ba119564ea3a819802a0052824c": {
          "model_module": "@jupyter-widgets/base",
          "model_module_version": "1.2.0",
          "model_name": "LayoutModel",
          "state": {
            "_model_module": "@jupyter-widgets/base",
            "_model_module_version": "1.2.0",
            "_model_name": "LayoutModel",
            "_view_count": null,
            "_view_module": "@jupyter-widgets/base",
            "_view_module_version": "1.2.0",
            "_view_name": "LayoutView",
            "align_content": null,
            "align_items": null,
            "align_self": null,
            "border": null,
            "bottom": null,
            "display": null,
            "flex": null,
            "flex_flow": null,
            "grid_area": null,
            "grid_auto_columns": null,
            "grid_auto_flow": null,
            "grid_auto_rows": null,
            "grid_column": null,
            "grid_gap": null,
            "grid_row": null,
            "grid_template_areas": null,
            "grid_template_columns": null,
            "grid_template_rows": null,
            "height": null,
            "justify_content": null,
            "justify_items": null,
            "left": null,
            "margin": null,
            "max_height": null,
            "max_width": null,
            "min_height": null,
            "min_width": null,
            "object_fit": null,
            "object_position": null,
            "order": null,
            "overflow": null,
            "overflow_x": null,
            "overflow_y": null,
            "padding": null,
            "right": null,
            "top": null,
            "visibility": null,
            "width": null
          }
        },
        "edebfba165524ffc80b34b86f6755331": {
          "model_module": "@jupyter-widgets/controls",
          "model_module_version": "1.5.0",
          "model_name": "HTMLModel",
          "state": {
            "_dom_classes": [],
            "_model_module": "@jupyter-widgets/controls",
            "_model_module_version": "1.5.0",
            "_model_name": "HTMLModel",
            "_view_count": null,
            "_view_module": "@jupyter-widgets/controls",
            "_view_module_version": "1.5.0",
            "_view_name": "HTMLView",
            "description": "",
            "description_tooltip": null,
            "layout": "IPY_MODEL_d04e3adb689b4679a4fc8c590d9056e3",
            "placeholder": "​",
            "style": "IPY_MODEL_21404a4c406644f0adfc8c2b5f5d44fa",
            "value": "tokenizer_config.json: 100%"
          }
        },
        "f679a582f800489bb5bd9fb289fd2462": {
          "model_module": "@jupyter-widgets/controls",
          "model_module_version": "1.5.0",
          "model_name": "DescriptionStyleModel",
          "state": {
            "_model_module": "@jupyter-widgets/controls",
            "_model_module_version": "1.5.0",
            "_model_name": "DescriptionStyleModel",
            "_view_count": null,
            "_view_module": "@jupyter-widgets/base",
            "_view_module_version": "1.2.0",
            "_view_name": "StyleView",
            "description_width": ""
          }
        },
        "f87e549be855434f8d5169d05ad5aeaa": {
          "model_module": "@jupyter-widgets/controls",
          "model_module_version": "1.5.0",
          "model_name": "HTMLModel",
          "state": {
            "_dom_classes": [],
            "_model_module": "@jupyter-widgets/controls",
            "_model_module_version": "1.5.0",
            "_model_name": "HTMLModel",
            "_view_count": null,
            "_view_module": "@jupyter-widgets/controls",
            "_view_module_version": "1.5.0",
            "_view_name": "HTMLView",
            "description": "",
            "description_tooltip": null,
            "layout": "IPY_MODEL_c7a77a074a794a2aa5fcce5c47bddde3",
            "placeholder": "​",
            "style": "IPY_MODEL_886a31e6e37b4c139d285124b3e8f294",
            "value": " 213k/213k [00:00&lt;00:00, 1.30MB/s]"
          }
        },
        "fea83cc1030444b48f756b78518861c3": {
          "model_module": "@jupyter-widgets/controls",
          "model_module_version": "1.5.0",
          "model_name": "HTMLModel",
          "state": {
            "_dom_classes": [],
            "_model_module": "@jupyter-widgets/controls",
            "_model_module_version": "1.5.0",
            "_model_name": "HTMLModel",
            "_view_count": null,
            "_view_module": "@jupyter-widgets/controls",
            "_view_module_version": "1.5.0",
            "_view_name": "HTMLView",
            "description": "",
            "description_tooltip": null,
            "layout": "IPY_MODEL_a89e8d54ef14439b923d469e03c22814",
            "placeholder": "​",
            "style": "IPY_MODEL_67c445106ed849e9a8f25c50305709f4",
            "value": " 49.0/49.0 [00:00&lt;00:00, 5.14kB/s]"
          }
        }
      }
    }
  },
  "nbformat": 4,
  "nbformat_minor": 0
}
